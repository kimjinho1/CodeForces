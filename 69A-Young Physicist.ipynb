{
 "cells": [
  {
   "cell_type": "code",
   "execution_count": 7,
   "id": "valued-abortion",
   "metadata": {
    "ExecuteTime": {
     "end_time": "2021-02-14T18:53:31.945664Z",
     "start_time": "2021-02-14T18:53:27.311102Z"
    }
   },
   "outputs": [
    {
     "name": "stdout",
     "output_type": "stream",
     "text": [
      "3\n",
      "4 1 7\n",
      "-2 4 -1\n",
      "1 -5 -3\n",
      "NO\n"
     ]
    }
   ],
   "source": [
    "x = y = z = 0\n",
    "for _ in range(int(input())):\n",
    "    a, b, c = map(int, input().split())\n",
    "    x += a; y += b; z += c\n",
    "print(\"YES\" if x == y == z == 0 else \"NO\")"
   ]
  },
  {
   "cell_type": "code",
   "execution_count": 5,
   "id": "dress-outline",
   "metadata": {
    "ExecuteTime": {
     "end_time": "2021-02-14T18:53:01.352476Z",
     "start_time": "2021-02-14T18:52:55.042351Z"
    }
   },
   "outputs": [
    {
     "name": "stdout",
     "output_type": "stream",
     "text": [
      "3\n",
      "3 -1 7\n",
      "-5 2 -4\n",
      "2 -1 -3\n",
      "YES\n"
     ]
    }
   ],
   "source": [
    "x = y = z = 0\n",
    "for _ in range(int(input())):\n",
    "    a, b, c = map(int, input().split())\n",
    "    x += a; y += b; z += c\n",
    "print(\"YES\" if x == y == z == 0 else \"NO\")"
   ]
  },
  {
   "cell_type": "code",
   "execution_count": null,
   "id": "organic-investor",
   "metadata": {},
   "outputs": [],
   "source": []
  }
 ],
 "metadata": {
  "kernelspec": {
   "display_name": "Python 3",
   "language": "python",
   "name": "python3"
  },
  "language_info": {
   "codemirror_mode": {
    "name": "ipython",
    "version": 3
   },
   "file_extension": ".py",
   "mimetype": "text/x-python",
   "name": "python",
   "nbconvert_exporter": "python",
   "pygments_lexer": "ipython3",
   "version": "3.7.9"
  },
  "toc": {
   "base_numbering": 1,
   "nav_menu": {},
   "number_sections": true,
   "sideBar": true,
   "skip_h1_title": false,
   "title_cell": "Table of Contents",
   "title_sidebar": "Contents",
   "toc_cell": false,
   "toc_position": {},
   "toc_section_display": true,
   "toc_window_display": false
  },
  "varInspector": {
   "cols": {
    "lenName": 16,
    "lenType": 16,
    "lenVar": 40
   },
   "kernels_config": {
    "python": {
     "delete_cmd_postfix": "",
     "delete_cmd_prefix": "del ",
     "library": "var_list.py",
     "varRefreshCmd": "print(var_dic_list())"
    },
    "r": {
     "delete_cmd_postfix": ") ",
     "delete_cmd_prefix": "rm(",
     "library": "var_list.r",
     "varRefreshCmd": "cat(var_dic_list()) "
    }
   },
   "types_to_exclude": [
    "module",
    "function",
    "builtin_function_or_method",
    "instance",
    "_Feature"
   ],
   "window_display": false
  }
 },
 "nbformat": 4,
 "nbformat_minor": 5
}
