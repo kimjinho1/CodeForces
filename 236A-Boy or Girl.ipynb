{
 "cells": [
  {
   "cell_type": "code",
   "execution_count": 15,
   "id": "casual-wiring",
   "metadata": {
    "ExecuteTime": {
     "end_time": "2021-02-14T18:37:05.241889Z",
     "start_time": "2021-02-14T18:37:04.784127Z"
    }
   },
   "outputs": [
    {
     "name": "stdout",
     "output_type": "stream",
     "text": [
      "wjmzbmr\n",
      "CHAT WITH HER!\n"
     ]
    }
   ],
   "source": [
    "s = set(input())\n",
    "print(\"IGNORE HIM!\" if len(s)%2 else \"CHAT WITH HER!\")"
   ]
  },
  {
   "cell_type": "code",
   "execution_count": 16,
   "id": "economic-yield",
   "metadata": {
    "ExecuteTime": {
     "end_time": "2021-02-14T18:37:08.535049Z",
     "start_time": "2021-02-14T18:37:08.269759Z"
    }
   },
   "outputs": [
    {
     "name": "stdout",
     "output_type": "stream",
     "text": [
      "xiaodao\n",
      "IGNORE HIM!\n"
     ]
    }
   ],
   "source": [
    "s = set(input())\n",
    "print(\"IGNORE HIM!\" if len(s)%2 else \"CHAT WITH HER!\")"
   ]
  },
  {
   "cell_type": "code",
   "execution_count": 17,
   "id": "stylish-forge",
   "metadata": {
    "ExecuteTime": {
     "end_time": "2021-02-14T18:37:12.899380Z",
     "start_time": "2021-02-14T18:37:11.910025Z"
    }
   },
   "outputs": [
    {
     "name": "stdout",
     "output_type": "stream",
     "text": [
      "sevenkplus\n",
      "CHAT WITH HER!\n"
     ]
    }
   ],
   "source": [
    "s = set(input())\n",
    "print(\"IGNORE HIM!\" if len(s)%2 else \"CHAT WITH HER!\")"
   ]
  },
  {
   "cell_type": "code",
   "execution_count": null,
   "id": "public-louisville",
   "metadata": {},
   "outputs": [],
   "source": []
  }
 ],
 "metadata": {
  "kernelspec": {
   "display_name": "Python 3",
   "language": "python",
   "name": "python3"
  },
  "language_info": {
   "codemirror_mode": {
    "name": "ipython",
    "version": 3
   },
   "file_extension": ".py",
   "mimetype": "text/x-python",
   "name": "python",
   "nbconvert_exporter": "python",
   "pygments_lexer": "ipython3",
   "version": "3.7.9"
  },
  "toc": {
   "base_numbering": 1,
   "nav_menu": {},
   "number_sections": true,
   "sideBar": true,
   "skip_h1_title": false,
   "title_cell": "Table of Contents",
   "title_sidebar": "Contents",
   "toc_cell": false,
   "toc_position": {},
   "toc_section_display": true,
   "toc_window_display": false
  },
  "varInspector": {
   "cols": {
    "lenName": 16,
    "lenType": 16,
    "lenVar": 40
   },
   "kernels_config": {
    "python": {
     "delete_cmd_postfix": "",
     "delete_cmd_prefix": "del ",
     "library": "var_list.py",
     "varRefreshCmd": "print(var_dic_list())"
    },
    "r": {
     "delete_cmd_postfix": ") ",
     "delete_cmd_prefix": "rm(",
     "library": "var_list.r",
     "varRefreshCmd": "cat(var_dic_list()) "
    }
   },
   "types_to_exclude": [
    "module",
    "function",
    "builtin_function_or_method",
    "instance",
    "_Feature"
   ],
   "window_display": false
  }
 },
 "nbformat": 4,
 "nbformat_minor": 5
}
