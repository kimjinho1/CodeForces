{
 "cells": [
  {
   "cell_type": "code",
   "execution_count": 5,
   "id": "classified-textbook",
   "metadata": {
    "ExecuteTime": {
     "end_time": "2021-02-14T17:39:27.487692Z",
     "start_time": "2021-02-14T17:39:25.823142Z"
    }
   },
   "outputs": [
    {
     "name": "stdout",
     "output_type": "stream",
     "text": [
      "1\n",
      "++X\n",
      "1\n"
     ]
    }
   ],
   "source": [
    "x = 0\n",
    "for _ in range(int(input())):\n",
    "    s = input()\n",
    "    if \"++\" in s:\n",
    "        x += 1\n",
    "    elif \"--\" in s:\n",
    "        x -= 1\n",
    "print(x)"
   ]
  },
  {
   "cell_type": "code",
   "execution_count": 6,
   "id": "experienced-puzzle",
   "metadata": {
    "ExecuteTime": {
     "end_time": "2021-02-14T17:39:32.536190Z",
     "start_time": "2021-02-14T17:39:30.013936Z"
    }
   },
   "outputs": [
    {
     "name": "stdout",
     "output_type": "stream",
     "text": [
      "2\n",
      "X++\n",
      "--X\n",
      "0\n"
     ]
    }
   ],
   "source": [
    "x = 0\n",
    "for _ in range(int(input())):\n",
    "    s = input()\n",
    "    if \"++\" in s:\n",
    "        x += 1\n",
    "    elif \"--\" in s:\n",
    "        x -= 1\n",
    "print(x)"
   ]
  },
  {
   "cell_type": "code",
   "execution_count": null,
   "id": "statewide-madagascar",
   "metadata": {},
   "outputs": [],
   "source": []
  }
 ],
 "metadata": {
  "kernelspec": {
   "display_name": "Python 3",
   "language": "python",
   "name": "python3"
  },
  "language_info": {
   "codemirror_mode": {
    "name": "ipython",
    "version": 3
   },
   "file_extension": ".py",
   "mimetype": "text/x-python",
   "name": "python",
   "nbconvert_exporter": "python",
   "pygments_lexer": "ipython3",
   "version": "3.7.9"
  },
  "toc": {
   "base_numbering": 1,
   "nav_menu": {},
   "number_sections": true,
   "sideBar": true,
   "skip_h1_title": false,
   "title_cell": "Table of Contents",
   "title_sidebar": "Contents",
   "toc_cell": false,
   "toc_position": {},
   "toc_section_display": true,
   "toc_window_display": false
  },
  "varInspector": {
   "cols": {
    "lenName": 16,
    "lenType": 16,
    "lenVar": 40
   },
   "kernels_config": {
    "python": {
     "delete_cmd_postfix": "",
     "delete_cmd_prefix": "del ",
     "library": "var_list.py",
     "varRefreshCmd": "print(var_dic_list())"
    },
    "r": {
     "delete_cmd_postfix": ") ",
     "delete_cmd_prefix": "rm(",
     "library": "var_list.r",
     "varRefreshCmd": "cat(var_dic_list()) "
    }
   },
   "types_to_exclude": [
    "module",
    "function",
    "builtin_function_or_method",
    "instance",
    "_Feature"
   ],
   "window_display": false
  }
 },
 "nbformat": 4,
 "nbformat_minor": 5
}
