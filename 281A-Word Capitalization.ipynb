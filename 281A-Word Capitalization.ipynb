{
 "cells": [
  {
   "cell_type": "code",
   "execution_count": 3,
   "id": "thorough-singapore",
   "metadata": {
    "ExecuteTime": {
     "end_time": "2021-02-14T18:19:40.678727Z",
     "start_time": "2021-02-14T18:19:40.335642Z"
    }
   },
   "outputs": [
    {
     "name": "stdout",
     "output_type": "stream",
     "text": [
      "ApPLe\n",
      "ApPLe\n"
     ]
    }
   ],
   "source": [
    "li = list(input())\n",
    "if 'a' <= li[0] <= 'z':\n",
    "    li[0] = li[0].upper()\n",
    "print(''.join(li))"
   ]
  },
  {
   "cell_type": "code",
   "execution_count": 5,
   "id": "emotional-council",
   "metadata": {
    "ExecuteTime": {
     "end_time": "2021-02-14T18:19:50.130449Z",
     "start_time": "2021-02-14T18:19:49.674680Z"
    }
   },
   "outputs": [
    {
     "name": "stdout",
     "output_type": "stream",
     "text": [
      "konjac\n",
      "Konjac\n"
     ]
    }
   ],
   "source": [
    "li = list(input())\n",
    "if 'a' <= li[0] <= 'z':\n",
    "    li[0] = li[0].upper()\n",
    "print(''.join(li))"
   ]
  },
  {
   "cell_type": "code",
   "execution_count": null,
   "id": "adult-survey",
   "metadata": {},
   "outputs": [],
   "source": []
  }
 ],
 "metadata": {
  "kernelspec": {
   "display_name": "Python 3",
   "language": "python",
   "name": "python3"
  },
  "language_info": {
   "codemirror_mode": {
    "name": "ipython",
    "version": 3
   },
   "file_extension": ".py",
   "mimetype": "text/x-python",
   "name": "python",
   "nbconvert_exporter": "python",
   "pygments_lexer": "ipython3",
   "version": "3.7.9"
  },
  "toc": {
   "base_numbering": 1,
   "nav_menu": {},
   "number_sections": true,
   "sideBar": true,
   "skip_h1_title": false,
   "title_cell": "Table of Contents",
   "title_sidebar": "Contents",
   "toc_cell": false,
   "toc_position": {},
   "toc_section_display": true,
   "toc_window_display": false
  },
  "varInspector": {
   "cols": {
    "lenName": 16,
    "lenType": 16,
    "lenVar": 40
   },
   "kernels_config": {
    "python": {
     "delete_cmd_postfix": "",
     "delete_cmd_prefix": "del ",
     "library": "var_list.py",
     "varRefreshCmd": "print(var_dic_list())"
    },
    "r": {
     "delete_cmd_postfix": ") ",
     "delete_cmd_prefix": "rm(",
     "library": "var_list.r",
     "varRefreshCmd": "cat(var_dic_list()) "
    }
   },
   "types_to_exclude": [
    "module",
    "function",
    "builtin_function_or_method",
    "instance",
    "_Feature"
   ],
   "window_display": false
  }
 },
 "nbformat": 4,
 "nbformat_minor": 5
}
