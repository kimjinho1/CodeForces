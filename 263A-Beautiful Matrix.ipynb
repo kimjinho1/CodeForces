{
 "cells": [
  {
   "cell_type": "code",
   "execution_count": 5,
   "id": "private-durham",
   "metadata": {
    "ExecuteTime": {
     "end_time": "2021-02-14T18:01:24.993059Z",
     "start_time": "2021-02-14T18:01:19.134769Z"
    }
   },
   "outputs": [
    {
     "name": "stdout",
     "output_type": "stream",
     "text": [
      "0 0 0 0 0\n",
      "0 0 0 0 1\n",
      "0 0 0 0 0\n",
      "0 0 0 0 0\n",
      "0 0 0 0 0\n",
      "3\n"
     ]
    }
   ],
   "source": [
    "li = [list(map(int, input().split())) for _ in range(5)]\n",
    "for i in range(5):\n",
    "    for j in range(5):\n",
    "        if li[i][j] == 1:\n",
    "            x, y = i, j\n",
    "            break\n",
    "print(abs(x-2) + abs(y-2))"
   ]
  },
  {
   "cell_type": "code",
   "execution_count": 6,
   "id": "strategic-radio",
   "metadata": {
    "ExecuteTime": {
     "end_time": "2021-02-14T18:01:34.937466Z",
     "start_time": "2021-02-14T18:01:28.012031Z"
    }
   },
   "outputs": [
    {
     "name": "stdout",
     "output_type": "stream",
     "text": [
      "0 0 0 0 0\n",
      "0 0 0 0 0\n",
      "0 1 0 0 0\n",
      "0 0 0 0 0\n",
      "0 0 0 0 0\n",
      "1\n"
     ]
    }
   ],
   "source": [
    "li = [list(map(int, input().split())) for _ in range(5)]\n",
    "for i in range(5):\n",
    "    for j in range(5):\n",
    "        if li[i][j] == 1:\n",
    "            x, y = i, j\n",
    "            break\n",
    "print(abs(x-2) + abs(y-2))"
   ]
  },
  {
   "cell_type": "code",
   "execution_count": null,
   "id": "planned-artwork",
   "metadata": {},
   "outputs": [],
   "source": []
  }
 ],
 "metadata": {
  "kernelspec": {
   "display_name": "Python 3",
   "language": "python",
   "name": "python3"
  },
  "language_info": {
   "codemirror_mode": {
    "name": "ipython",
    "version": 3
   },
   "file_extension": ".py",
   "mimetype": "text/x-python",
   "name": "python",
   "nbconvert_exporter": "python",
   "pygments_lexer": "ipython3",
   "version": "3.7.9"
  },
  "toc": {
   "base_numbering": 1,
   "nav_menu": {},
   "number_sections": true,
   "sideBar": true,
   "skip_h1_title": false,
   "title_cell": "Table of Contents",
   "title_sidebar": "Contents",
   "toc_cell": false,
   "toc_position": {},
   "toc_section_display": true,
   "toc_window_display": false
  },
  "varInspector": {
   "cols": {
    "lenName": 16,
    "lenType": 16,
    "lenVar": 40
   },
   "kernels_config": {
    "python": {
     "delete_cmd_postfix": "",
     "delete_cmd_prefix": "del ",
     "library": "var_list.py",
     "varRefreshCmd": "print(var_dic_list())"
    },
    "r": {
     "delete_cmd_postfix": ") ",
     "delete_cmd_prefix": "rm(",
     "library": "var_list.r",
     "varRefreshCmd": "cat(var_dic_list()) "
    }
   },
   "types_to_exclude": [
    "module",
    "function",
    "builtin_function_or_method",
    "instance",
    "_Feature"
   ],
   "window_display": false
  }
 },
 "nbformat": 4,
 "nbformat_minor": 5
}
