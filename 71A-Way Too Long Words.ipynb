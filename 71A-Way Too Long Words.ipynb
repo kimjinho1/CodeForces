{
 "cells": [
  {
   "cell_type": "code",
   "execution_count": 1,
   "id": "earned-assets",
   "metadata": {
    "ExecuteTime": {
     "end_time": "2021-02-14T16:03:46.583140Z",
     "start_time": "2021-02-14T16:03:36.295664Z"
    }
   },
   "outputs": [
    {
     "name": "stdout",
     "output_type": "stream",
     "text": [
      "4\n",
      "word\n",
      "word\n",
      "localization\n",
      "l10n\n",
      "internationalization\n",
      "i18n\n",
      "pneumonoultramicroscopicsilicovolcanoconiosis\n",
      "p43s\n"
     ]
    }
   ],
   "source": [
    "for _ in range(int(input())):\n",
    "    s = input()\n",
    "    if len(s) > 10:\n",
    "        print(s[0], len(s)-2, s[-1], sep='')\n",
    "    else:\n",
    "        print(s)"
   ]
  },
  {
   "cell_type": "code",
   "execution_count": 2,
   "id": "checked-metropolitan",
   "metadata": {
    "ExecuteTime": {
     "end_time": "2021-02-14T16:07:57.116116Z",
     "start_time": "2021-02-14T16:07:48.745520Z"
    }
   },
   "outputs": [
    {
     "name": "stdout",
     "output_type": "stream",
     "text": [
      "4\n",
      "word\n",
      "word\n",
      "localization\n",
      "l10n\n",
      "internationalization\n",
      "i18n\n",
      "pneumonoultramicroscopicsilicovolcanoconiosis\n",
      "p43s\n"
     ]
    }
   ],
   "source": [
    "for _ in range(int(input())):\n",
    "    s = input()\n",
    "    print(s[0]+str(len(s)-2)+s[-1] if len(s) > 10 else s)"
   ]
  },
  {
   "cell_type": "code",
   "execution_count": null,
   "id": "handed-easter",
   "metadata": {},
   "outputs": [],
   "source": []
  }
 ],
 "metadata": {
  "kernelspec": {
   "display_name": "Python 3",
   "language": "python",
   "name": "python3"
  },
  "language_info": {
   "codemirror_mode": {
    "name": "ipython",
    "version": 3
   },
   "file_extension": ".py",
   "mimetype": "text/x-python",
   "name": "python",
   "nbconvert_exporter": "python",
   "pygments_lexer": "ipython3",
   "version": "3.7.9"
  },
  "toc": {
   "base_numbering": 1,
   "nav_menu": {},
   "number_sections": true,
   "sideBar": true,
   "skip_h1_title": false,
   "title_cell": "Table of Contents",
   "title_sidebar": "Contents",
   "toc_cell": false,
   "toc_position": {},
   "toc_section_display": true,
   "toc_window_display": false
  },
  "varInspector": {
   "cols": {
    "lenName": 16,
    "lenType": 16,
    "lenVar": 40
   },
   "kernels_config": {
    "python": {
     "delete_cmd_postfix": "",
     "delete_cmd_prefix": "del ",
     "library": "var_list.py",
     "varRefreshCmd": "print(var_dic_list())"
    },
    "r": {
     "delete_cmd_postfix": ") ",
     "delete_cmd_prefix": "rm(",
     "library": "var_list.r",
     "varRefreshCmd": "cat(var_dic_list()) "
    }
   },
   "types_to_exclude": [
    "module",
    "function",
    "builtin_function_or_method",
    "instance",
    "_Feature"
   ],
   "window_display": false
  }
 },
 "nbformat": 4,
 "nbformat_minor": 5
}
