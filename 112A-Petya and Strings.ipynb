{
 "cells": [
  {
   "cell_type": "code",
   "execution_count": 1,
   "id": "seeing-schema",
   "metadata": {
    "ExecuteTime": {
     "end_time": "2021-02-14T17:53:00.459713Z",
     "start_time": "2021-02-14T17:52:54.383960Z"
    }
   },
   "outputs": [
    {
     "name": "stdout",
     "output_type": "stream",
     "text": [
      "aaaa\n",
      "aaaA\n",
      "0\n"
     ]
    }
   ],
   "source": [
    "s1 = input().lower()\n",
    "s2 = input().lower()\n",
    "if s1 == s2:\n",
    "    print(0)\n",
    "elif s1 < s2:\n",
    "    print(-1)\n",
    "else:\n",
    "    print(1)"
   ]
  },
  {
   "cell_type": "code",
   "execution_count": 2,
   "id": "decent-vietnamese",
   "metadata": {
    "ExecuteTime": {
     "end_time": "2021-02-14T17:53:09.620200Z",
     "start_time": "2021-02-14T17:53:07.344285Z"
    }
   },
   "outputs": [
    {
     "name": "stdout",
     "output_type": "stream",
     "text": [
      "abs\n",
      "Abz\n",
      "-1\n"
     ]
    }
   ],
   "source": [
    "s1 = input().lower()\n",
    "s2 = input().lower()\n",
    "if s1 == s2:\n",
    "    print(0)\n",
    "elif s1 < s2:\n",
    "    print(-1)\n",
    "else:\n",
    "    print(1)"
   ]
  },
  {
   "cell_type": "code",
   "execution_count": 3,
   "id": "guilty-superior",
   "metadata": {
    "ExecuteTime": {
     "end_time": "2021-02-14T17:53:21.289993Z",
     "start_time": "2021-02-14T17:53:11.888135Z"
    }
   },
   "outputs": [
    {
     "name": "stdout",
     "output_type": "stream",
     "text": [
      "abcdefg\n",
      "AbCdEfF\n",
      "1\n"
     ]
    }
   ],
   "source": [
    "s1 = input().lower()\n",
    "s2 = input().lower()\n",
    "if s1 == s2:\n",
    "    print(0)\n",
    "elif s1 < s2:\n",
    "    print(-1)\n",
    "else:\n",
    "    print(1)"
   ]
  },
  {
   "cell_type": "code",
   "execution_count": null,
   "id": "preliminary-viewer",
   "metadata": {},
   "outputs": [],
   "source": []
  }
 ],
 "metadata": {
  "kernelspec": {
   "display_name": "Python 3",
   "language": "python",
   "name": "python3"
  },
  "language_info": {
   "codemirror_mode": {
    "name": "ipython",
    "version": 3
   },
   "file_extension": ".py",
   "mimetype": "text/x-python",
   "name": "python",
   "nbconvert_exporter": "python",
   "pygments_lexer": "ipython3",
   "version": "3.7.9"
  },
  "toc": {
   "base_numbering": 1,
   "nav_menu": {},
   "number_sections": true,
   "sideBar": true,
   "skip_h1_title": false,
   "title_cell": "Table of Contents",
   "title_sidebar": "Contents",
   "toc_cell": false,
   "toc_position": {},
   "toc_section_display": true,
   "toc_window_display": false
  },
  "varInspector": {
   "cols": {
    "lenName": 16,
    "lenType": 16,
    "lenVar": 40
   },
   "kernels_config": {
    "python": {
     "delete_cmd_postfix": "",
     "delete_cmd_prefix": "del ",
     "library": "var_list.py",
     "varRefreshCmd": "print(var_dic_list())"
    },
    "r": {
     "delete_cmd_postfix": ") ",
     "delete_cmd_prefix": "rm(",
     "library": "var_list.r",
     "varRefreshCmd": "cat(var_dic_list()) "
    }
   },
   "types_to_exclude": [
    "module",
    "function",
    "builtin_function_or_method",
    "instance",
    "_Feature"
   ],
   "window_display": false
  }
 },
 "nbformat": 4,
 "nbformat_minor": 5
}
