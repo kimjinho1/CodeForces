{
 "cells": [
  {
   "cell_type": "code",
   "execution_count": 11,
   "id": "certain-criticism",
   "metadata": {
    "ExecuteTime": {
     "end_time": "2021-02-14T16:57:14.162969Z",
     "start_time": "2021-02-14T16:57:12.884388Z"
    }
   },
   "outputs": [
    {
     "name": "stdout",
     "output_type": "stream",
     "text": [
      "8 5\n",
      "10 9 8 7 7 7 5 5\n",
      "6\n"
     ]
    }
   ],
   "source": [
    "n, k = map(int, input().split())\n",
    "li = list(map(int, input().split()))\n",
    "cnt = 0\n",
    "for a in li:\n",
    "    if a > 0 and a >= li[k-1]:\n",
    "        cnt += 1\n",
    "print(cnt)"
   ]
  },
  {
   "cell_type": "code",
   "execution_count": 12,
   "id": "black-minnesota",
   "metadata": {
    "ExecuteTime": {
     "end_time": "2021-02-14T16:57:18.084484Z",
     "start_time": "2021-02-14T16:57:16.097797Z"
    }
   },
   "outputs": [
    {
     "name": "stdout",
     "output_type": "stream",
     "text": [
      "4 2 \n",
      "0 0 0 0\n",
      "0\n"
     ]
    }
   ],
   "source": [
    "n, k = map(int, input().split())\n",
    "li = list(map(int, input().split()))\n",
    "cnt = 0\n",
    "for a in li:\n",
    "    if a > 0 and a >= li[k-1]:\n",
    "        cnt += 1\n",
    "print(cnt)"
   ]
  },
  {
   "cell_type": "code",
   "execution_count": null,
   "id": "postal-gabriel",
   "metadata": {},
   "outputs": [],
   "source": []
  }
 ],
 "metadata": {
  "kernelspec": {
   "display_name": "Python 3",
   "language": "python",
   "name": "python3"
  },
  "language_info": {
   "codemirror_mode": {
    "name": "ipython",
    "version": 3
   },
   "file_extension": ".py",
   "mimetype": "text/x-python",
   "name": "python",
   "nbconvert_exporter": "python",
   "pygments_lexer": "ipython3",
   "version": "3.7.9"
  },
  "toc": {
   "base_numbering": 1,
   "nav_menu": {},
   "number_sections": true,
   "sideBar": true,
   "skip_h1_title": false,
   "title_cell": "Table of Contents",
   "title_sidebar": "Contents",
   "toc_cell": false,
   "toc_position": {},
   "toc_section_display": true,
   "toc_window_display": false
  },
  "varInspector": {
   "cols": {
    "lenName": 16,
    "lenType": 16,
    "lenVar": 40
   },
   "kernels_config": {
    "python": {
     "delete_cmd_postfix": "",
     "delete_cmd_prefix": "del ",
     "library": "var_list.py",
     "varRefreshCmd": "print(var_dic_list())"
    },
    "r": {
     "delete_cmd_postfix": ") ",
     "delete_cmd_prefix": "rm(",
     "library": "var_list.r",
     "varRefreshCmd": "cat(var_dic_list()) "
    }
   },
   "types_to_exclude": [
    "module",
    "function",
    "builtin_function_or_method",
    "instance",
    "_Feature"
   ],
   "window_display": false
  }
 },
 "nbformat": 4,
 "nbformat_minor": 5
}
